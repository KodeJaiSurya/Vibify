{
  "cells": [
    {
      "cell_type": "code",
      "source": [
        "!pip install -q pandas numpy deepface"
      ],
      "metadata": {
        "id": "y_B8GKK8CEWl"
      },
      "execution_count": null,
      "outputs": []
    },
    {
      "cell_type": "code",
      "execution_count": 3,
      "metadata": {
        "id": "Dst0HNS_CBC1"
      },
      "outputs": [],
      "source": [
        "# Importing required packages\n",
        "import pandas as pd\n",
        "import numpy as np\n",
        "import cv2\n",
        "from deepface import DeepFace\n",
        "import matplotlib.pyplot as plt\n",
        "import seaborn as sns"
      ]
    },
    {
      "cell_type": "code",
      "source": [
        "# Set Pandas display options\n",
        "pd.options.display.max_rows = None\n",
        "pd.options.display.max_columns = None"
      ],
      "metadata": {
        "id": "gVr_w6MlUxpB"
      },
      "execution_count": null,
      "outputs": []
    },
    {
      "cell_type": "markdown",
      "source": [
        "# Generating Demographics\n",
        "\n",
        "Tagging each image with Age, Gender usinf DeepFace"
      ],
      "metadata": {
        "id": "qdSTMuCPZfCm"
      }
    },
    {
      "cell_type": "code",
      "execution_count": null,
      "metadata": {
        "id": "v4Zfu6C2CBC3"
      },
      "outputs": [],
      "source": [
        "import numpy as np\n",
        "import cv2\n",
        "from deepface import DeepFace\n",
        "\n",
        "def pixels_to_image(pixels):\n",
        "    \"\"\"\n",
        "    Converts a space-separated string of pixel values into a 48x48 grayscale numpy array.\n",
        "\n",
        "    Args:\n",
        "        pixels (str): A string containing space-separated pixel values, typically representing\n",
        "                      a 48x48 grayscale image in the FER (Facial Expression Recognition) dataset format.\n",
        "\n",
        "    Returns:\n",
        "        np.ndarray: A 48x48 numpy array representing the grayscale image.\n",
        "    \"\"\"\n",
        "    # Split the pixel string, convert to a numpy array of uint8 type\n",
        "    pixel_values = np.array(pixels.split(), dtype='uint8')\n",
        "\n",
        "    # Reshape the flat pixel array into a 48x48 matrix (grayscale image)\n",
        "    image = pixel_values.reshape(48, 48)\n",
        "    return image\n",
        "\n",
        "def infer_demographics(image):\n",
        "    \"\"\"\n",
        "    Infers the age and gender of a person from a given image using DeepFace.\n",
        "\n",
        "    Args:\n",
        "        image (np.ndarray): A 48x48 grayscale image array.\n",
        "\n",
        "    Returns:\n",
        "        tuple: A tuple containing the inferred age (int) and gender (str) of the person in the image.\n",
        "    \"\"\"\n",
        "    # Convert the grayscale image to BGR format, as DeepFace requires a colored image input\n",
        "    image = cv2.cvtColor(image, cv2.COLOR_GRAY2BGR)\n",
        "\n",
        "    # Analyze the image to infer age and gender, with detection turned off to handle all images\n",
        "    analysis = DeepFace.analyze(image, actions=['age', 'gender'], enforce_detection=False)[0]\n",
        "\n",
        "    # Extract age and gender from the analysis dictionary\n",
        "    return analysis['age'], analysis['gender']\n",
        "\n",
        "def get_demographics(data, ages, genders):\n",
        "    \"\"\"\n",
        "    Processes each row in the DataFrame to infer and add age and gender based on image pixels.\n",
        "\n",
        "    Args:\n",
        "        data (pd.DataFrame): A DataFrame containing image data with a 'pixels' column.\n",
        "        ages (list): A list to store inferred ages for each image.\n",
        "        genders (list): A list to store inferred genders for each image.\n",
        "\n",
        "    Returns:\n",
        "        pd.DataFrame: The DataFrame with added 'age' and 'gender' columns containing inferred values.\n",
        "    \"\"\"\n",
        "    # Iterate through each row in the DataFrame\n",
        "    for i, row in data.iterrows():\n",
        "        # Convert pixel data to a 48x48 image\n",
        "        image = pixels_to_image(row['pixels'])\n",
        "\n",
        "        # Infer age and gender from the image\n",
        "        age, gender = infer_demographics(image)\n",
        "\n",
        "        # Append inferred age and gender to the respective lists\n",
        "        ages.append(age)\n",
        "\n",
        "        # 'gender' from DeepFace is a dictionary with probabilities, so we select the most probable gender\n",
        "        genders.append(max(gender, key=gender.get))\n",
        "\n",
        "    # Add inferred age and gender lists as new columns in the DataFrame\n",
        "    data['age'] = ages\n",
        "    data['gender'] = genders\n",
        "    return data\n"
      ]
    },
    {
      "cell_type": "code",
      "execution_count": null,
      "metadata": {
        "id": "pfxm5LeKCBC4"
      },
      "outputs": [],
      "source": [
        "def main():\n",
        "    \"\"\"\n",
        "    Main function to read image data from a CSV file, infer demographics,\n",
        "    and save the results to a new CSV file.\n",
        "    \"\"\"\n",
        "    # Read the CSV file containing image data and labels\n",
        "    datafr = pd.read_csv(\"fer2013.csv\")\n",
        "\n",
        "    # Initialize empty lists to store inferred ages and genders\n",
        "    ages, genders = [], []\n",
        "\n",
        "    # Filter the data to use sample of dataset\n",
        "    # infer demographics for the filtered data\n",
        "    dg_data = get_demographics(datafr[datafr['Usage'] == \"PublicTest\"], ages, genders)\n",
        "\n",
        "    # Select the relevant columns: emotion, pixels, age, and gender\n",
        "    data = dg_data[['emotion', 'pixels', 'age', 'gender']]\n",
        "\n",
        "    # Save the processed data with inferred demographics to a new CSV file\n",
        "    data.to_csv(\"demographic_data.csv\", index=False)\n"
      ]
    },
    {
      "cell_type": "markdown",
      "source": [
        "# Detecting Bias in Your Data - ANALYSIS\n",
        "\n",
        "Labels are:\n",
        "- 0 - Angry\n",
        "- 1 - Disgust\n",
        "- 2 - Fear\n",
        "- 3 - Happy\n",
        "- 4 - Sad\n",
        "- 5 - Surprise\n",
        "- 6 - Neutral"
      ],
      "metadata": {
        "id": "pcvikdEqZXYx"
      }
    },
    {
      "cell_type": "code",
      "source": [
        "# Import complete data\n",
        "datafr = pd.read_csv(\"fer2013.csv\")"
      ],
      "metadata": {
        "id": "xHljGWkvA9zk"
      },
      "execution_count": 27,
      "outputs": []
    },
    {
      "cell_type": "code",
      "source": [
        "datafr.shape"
      ],
      "metadata": {
        "colab": {
          "base_uri": "https://localhost:8080/"
        },
        "id": "mL7eI0vxBPD5",
        "outputId": "1eb32eb7-4123-4635-e72c-64a37f1c0381"
      },
      "execution_count": 28,
      "outputs": [
        {
          "output_type": "execute_result",
          "data": {
            "text/plain": [
              "(35887, 3)"
            ]
          },
          "metadata": {},
          "execution_count": 28
        }
      ]
    },
    {
      "cell_type": "code",
      "source": [
        "datafr['emotion'].value_counts()"
      ],
      "metadata": {
        "colab": {
          "base_uri": "https://localhost:8080/",
          "height": 335
        },
        "id": "yKdUJ5ZsBFDv",
        "outputId": "388b3916-c1ad-4521-cdfa-26b82218fb8f"
      },
      "execution_count": 29,
      "outputs": [
        {
          "output_type": "execute_result",
          "data": {
            "text/plain": [
              "emotion\n",
              "3    8989\n",
              "6    6198\n",
              "4    6077\n",
              "2    5121\n",
              "0    4953\n",
              "5    4002\n",
              "1     547\n",
              "Name: count, dtype: int64"
            ],
            "text/html": [
              "<div>\n",
              "<style scoped>\n",
              "    .dataframe tbody tr th:only-of-type {\n",
              "        vertical-align: middle;\n",
              "    }\n",
              "\n",
              "    .dataframe tbody tr th {\n",
              "        vertical-align: top;\n",
              "    }\n",
              "\n",
              "    .dataframe thead th {\n",
              "        text-align: right;\n",
              "    }\n",
              "</style>\n",
              "<table border=\"1\" class=\"dataframe\">\n",
              "  <thead>\n",
              "    <tr style=\"text-align: right;\">\n",
              "      <th></th>\n",
              "      <th>count</th>\n",
              "    </tr>\n",
              "    <tr>\n",
              "      <th>emotion</th>\n",
              "      <th></th>\n",
              "    </tr>\n",
              "  </thead>\n",
              "  <tbody>\n",
              "    <tr>\n",
              "      <th>3</th>\n",
              "      <td>8989</td>\n",
              "    </tr>\n",
              "    <tr>\n",
              "      <th>6</th>\n",
              "      <td>6198</td>\n",
              "    </tr>\n",
              "    <tr>\n",
              "      <th>4</th>\n",
              "      <td>6077</td>\n",
              "    </tr>\n",
              "    <tr>\n",
              "      <th>2</th>\n",
              "      <td>5121</td>\n",
              "    </tr>\n",
              "    <tr>\n",
              "      <th>0</th>\n",
              "      <td>4953</td>\n",
              "    </tr>\n",
              "    <tr>\n",
              "      <th>5</th>\n",
              "      <td>4002</td>\n",
              "    </tr>\n",
              "    <tr>\n",
              "      <th>1</th>\n",
              "      <td>547</td>\n",
              "    </tr>\n",
              "  </tbody>\n",
              "</table>\n",
              "</div><br><label><b>dtype:</b> int64</label>"
            ]
          },
          "metadata": {},
          "execution_count": 29
        }
      ]
    },
    {
      "cell_type": "code",
      "source": [
        "# Import CSV data sample\n",
        "data = pd.read_csv(\"demographic_data.csv\")"
      ],
      "metadata": {
        "id": "HvSrwAzthEGX"
      },
      "execution_count": 4,
      "outputs": []
    },
    {
      "cell_type": "code",
      "source": [
        "# Basic info and summary statistics\n",
        "print(data.info())"
      ],
      "metadata": {
        "colab": {
          "base_uri": "https://localhost:8080/"
        },
        "id": "Kt4edJUjOaE3",
        "outputId": "a558949f-f56d-4877-9644-b89f9ac84f8a"
      },
      "execution_count": 5,
      "outputs": [
        {
          "output_type": "stream",
          "name": "stdout",
          "text": [
            "<class 'pandas.core.frame.DataFrame'>\n",
            "RangeIndex: 3589 entries, 0 to 3588\n",
            "Data columns (total 5 columns):\n",
            " #   Column   Non-Null Count  Dtype \n",
            "---  ------   --------------  ----- \n",
            " 0   emotion  3589 non-null   int64 \n",
            " 1   pixels   3589 non-null   object\n",
            " 2   cluster  3589 non-null   int64 \n",
            " 3   age      3589 non-null   int64 \n",
            " 4   gender   3589 non-null   object\n",
            "dtypes: int64(3), object(2)\n",
            "memory usage: 140.3+ KB\n",
            "None\n"
          ]
        }
      ]
    },
    {
      "cell_type": "code",
      "source": [
        "# Describe data\n",
        "print(data.describe())"
      ],
      "metadata": {
        "colab": {
          "base_uri": "https://localhost:8080/"
        },
        "id": "Nd-S-MAUPBKf",
        "outputId": "0c7b41c9-63f1-49b6-b11b-653a90a6f7db"
      },
      "execution_count": 6,
      "outputs": [
        {
          "output_type": "stream",
          "name": "stdout",
          "text": [
            "           emotion      cluster          age\n",
            "count  3589.000000  3589.000000  3589.000000\n",
            "mean      3.360825     0.529953    31.579270\n",
            "std       1.846366     0.499172     6.857742\n",
            "min       0.000000     0.000000    13.000000\n",
            "25%       2.000000     0.000000    27.000000\n",
            "50%       3.000000     1.000000    31.000000\n",
            "75%       5.000000     1.000000    35.000000\n",
            "max       6.000000     1.000000    69.000000\n"
          ]
        }
      ]
    },
    {
      "cell_type": "code",
      "source": [
        "# Check for missing values in each column\n",
        "print(data.isnull().sum())"
      ],
      "metadata": {
        "colab": {
          "base_uri": "https://localhost:8080/"
        },
        "id": "7U91To01PE6h",
        "outputId": "1b516a61-8e8f-4cfc-88f1-9d0dfda7e1ce"
      },
      "execution_count": 7,
      "outputs": [
        {
          "output_type": "stream",
          "name": "stdout",
          "text": [
            "emotion    0\n",
            "pixels     0\n",
            "cluster    0\n",
            "age        0\n",
            "gender     0\n",
            "dtype: int64\n"
          ]
        }
      ]
    },
    {
      "cell_type": "code",
      "source": [
        "# Unique values in categorical columns\n",
        "print(\"Unique emotions:\", data['emotion'].unique())\n",
        "print(\"Unique genders:\", data['gender'].unique())\n",
        "print(\"Unique age groups:\", data['age'].unique())\n"
      ],
      "metadata": {
        "colab": {
          "base_uri": "https://localhost:8080/"
        },
        "id": "44WYwdjIPI2j",
        "outputId": "778a0c51-6de4-464a-c4b0-a5566945acf3"
      },
      "execution_count": 8,
      "outputs": [
        {
          "output_type": "stream",
          "name": "stdout",
          "text": [
            "Unique emotions: [0 1 4 6 3 2 5]\n",
            "Unique genders: ['Man' 'Woman']\n",
            "Unique age groups: [38 23 51 32 26 31 27 34 28 24 36 29 39 30 40 33 45 21 37 35 22 44 25 53\n",
            " 41 42 55 52 15 14 50 54 48 46 49 57 60 18 17 47 16 58 20 43 19 66 69 64\n",
            " 62 13 56 59 65]\n"
          ]
        }
      ]
    },
    {
      "cell_type": "code",
      "source": [
        "emotion_percentage = data['emotion'].value_counts(normalize=True) * 100\n",
        "print(emotion_percentage)"
      ],
      "metadata": {
        "colab": {
          "base_uri": "https://localhost:8080/"
        },
        "id": "0kRBZfYqh5KA",
        "outputId": "0b6636a7-84dd-4ed1-ef5f-f789d7e2e458"
      },
      "execution_count": 9,
      "outputs": [
        {
          "output_type": "stream",
          "name": "stdout",
          "text": [
            "emotion\n",
            "3    24.937308\n",
            "4    18.194483\n",
            "6    16.912789\n",
            "2    13.820006\n",
            "0    13.011981\n",
            "5    11.563110\n",
            "1     1.560323\n",
            "Name: proportion, dtype: float64\n"
          ]
        }
      ]
    },
    {
      "cell_type": "code",
      "source": [
        "# Plot distribution of emotion\n",
        "plt.figure(figsize=(8, 6))\n",
        "sns.countplot(data=data, x='emotion')\n",
        "plt.title(\"Distribution of Emotions\")\n",
        "plt.show()"
      ],
      "metadata": {
        "colab": {
          "base_uri": "https://localhost:8080/",
          "height": 564
        },
        "id": "jPQs5IJJPL19",
        "outputId": "781f4f7e-c866-4d96-95ef-bbf132e0d00a"
      },
      "execution_count": 10,
      "outputs": [
        {
          "output_type": "display_data",
          "data": {
            "text/plain": [
              "<Figure size 800x600 with 1 Axes>"
            ],
            "image/png": "[encoded data removed]"
          },
          "metadata": {}
        }
      ]
    },
    {
      "cell_type": "code",
      "source": [
        "# Plot distribution of age\n",
        "plt.figure(figsize=(8, 6))\n",
        "sns.histplot(data['age'], bins=20, kde=True)\n",
        "plt.title(\"Age Distribution\")\n",
        "plt.show()\n",
        "\n",
        "# Define age groups\n",
        "age_bins = [0, 18, 30, 50, 65, 100]\n",
        "age_labels = ['0-18', '19-30', '31-50', '51-65', '65+']\n",
        "data['age_group'] = pd.cut(data['age'], bins=age_bins, labels=age_labels)\n",
        "\n",
        "# Plot age groups\n",
        "plt.figure(figsize=(8, 6))\n",
        "sns.countplot(data=data, x='age_group')\n",
        "plt.title(\"Distribution of Age Groups\")\n",
        "plt.show()\n"
      ],
      "metadata": {
        "colab": {
          "base_uri": "https://localhost:8080/",
          "height": 1000
        },
        "id": "x2yGFGSbPU_X",
        "outputId": "b0c947e7-bd05-4ad5-adbe-fa17b0b69efa"
      },
      "execution_count": 11,
      "outputs": [
        {
          "output_type": "display_data",
          "data": {
            "text/plain": [
              "<Figure size 800x600 with 1 Axes>"
            ],
            "image/png": "[encoded data removed]"
          },
          "metadata": {}
        },
        {
          "output_type": "display_data",
          "data": {
            "text/plain": [
              "<Figure size 800x600 with 1 Axes>"
            ],
            "image/png": "[encoded data removed]"
          },
          "metadata": {}
        }
      ]
    },
    {
      "cell_type": "code",
      "source": [
        "gender_percentage = data['gender'].value_counts(normalize=True) * 100\n",
        "print(gender_percentage)"
      ],
      "metadata": {
        "colab": {
          "base_uri": "https://localhost:8080/"
        },
        "id": "BXUg_-mTi0-B",
        "outputId": "a4af1723-f2df-43c7-c662-8766b818f40e"
      },
      "execution_count": 12,
      "outputs": [
        {
          "output_type": "stream",
          "name": "stdout",
          "text": [
            "gender\n",
            "Man      62.52438\n",
            "Woman    37.47562\n",
            "Name: proportion, dtype: float64\n"
          ]
        }
      ]
    },
    {
      "cell_type": "code",
      "source": [
        "# Plot gender distribution\n",
        "plt.figure(figsize=(8, 6))\n",
        "sns.countplot(data=data, x='gender')\n",
        "plt.title(\"Gender Distribution\")\n",
        "plt.show()\n"
      ],
      "metadata": {
        "colab": {
          "base_uri": "https://localhost:8080/",
          "height": 564
        },
        "id": "GU_QDeMLPbU5",
        "outputId": "911a406b-1034-4e2e-c165-49d2b30e5cb7"
      },
      "execution_count": 13,
      "outputs": [
        {
          "output_type": "display_data",
          "data": {
            "text/plain": [
              "<Figure size 800x600 with 1 Axes>"
            ],
            "image/png": "[encoded data removed]"
          },
          "metadata": {}
        }
      ]
    },
    {
      "cell_type": "markdown",
      "source": [
        "### Emotion Distribution by Age Group"
      ],
      "metadata": {
        "id": "94-WGpdXPuNw"
      }
    },
    {
      "cell_type": "code",
      "source": [
        "# Plot emotion distribution within each age group\n",
        "plt.figure(figsize=(10, 8))\n",
        "sns.countplot(data=data, x='emotion', hue='age_group')\n",
        "plt.title(\"Emotion Distribution by Age Group\")\n",
        "plt.legend(title=\"Age Group\")\n",
        "plt.show()\n"
      ],
      "metadata": {
        "colab": {
          "base_uri": "https://localhost:8080/",
          "height": 718
        },
        "id": "-AtTkl5-Pic1",
        "outputId": "db474b49-e7c6-4ff7-99c4-f9d351e91425"
      },
      "execution_count": 14,
      "outputs": [
        {
          "output_type": "display_data",
          "data": {
            "text/plain": [
              "<Figure size 1000x800 with 1 Axes>"
            ],
            "image/png": "[encoded data removed]"
          },
          "metadata": {}
        }
      ]
    },
    {
      "cell_type": "markdown",
      "source": [
        "### Emotion Distribution by Gender"
      ],
      "metadata": {
        "id": "ScBEKi2ZPzXB"
      }
    },
    {
      "cell_type": "code",
      "source": [
        "# Plot emotion distribution within each gender\n",
        "plt.figure(figsize=(10, 8))\n",
        "sns.countplot(data=data, x='emotion', hue='gender')\n",
        "plt.title(\"Emotion Distribution by Gender\")\n",
        "plt.legend(title=\"Gender\")\n",
        "plt.show()\n"
      ],
      "metadata": {
        "colab": {
          "base_uri": "https://localhost:8080/",
          "height": 718
        },
        "id": "b5WT21YDPmIJ",
        "outputId": "52ec7530-afbf-4e58-e08e-65d59e08ed44"
      },
      "execution_count": 15,
      "outputs": [
        {
          "output_type": "display_data",
          "data": {
            "text/plain": [
              "<Figure size 1000x800 with 1 Axes>"
            ],
            "image/png": "[encoded data removed]"
          },
          "metadata": {}
        }
      ]
    },
    {
      "cell_type": "markdown",
      "source": [
        "### Grouped Statistics"
      ],
      "metadata": {
        "id": "Y4uqd44nQHp0"
      }
    },
    {
      "cell_type": "code",
      "source": [
        "# Mean and count of each emotion by age group\n",
        "emotion_by_age = data.groupby('age_group')['emotion'].value_counts(normalize=True).unstack()\n",
        "print(\"Emotion Distribution by Age Group:\\n\", emotion_by_age)\n",
        "\n",
        "# Mean and count of each emotion by gender\n",
        "emotion_by_gender = data.groupby('gender')['emotion'].value_counts(normalize=True).unstack()\n",
        "print(\"Emotion Distribution by Gender:\\n\", emotion_by_gender)\n"
      ],
      "metadata": {
        "colab": {
          "base_uri": "https://localhost:8080/"
        },
        "id": "ttouT5-2P_j8",
        "outputId": "eea82125-5ce9-4126-f161-e4c4f71d52be"
      },
      "execution_count": 16,
      "outputs": [
        {
          "output_type": "stream",
          "name": "stdout",
          "text": [
            "Emotion Distribution by Age Group:\n",
            " emotion           0         1         2         3         4         5  \\\n",
            "age_group                                                               \n",
            "0-18       0.028571  0.000000  0.028571  0.457143  0.057143  0.257143   \n",
            "19-30      0.123479  0.013990  0.131387  0.212895  0.203771  0.119830   \n",
            "31-50      0.136683  0.017828  0.147488  0.274986  0.165316  0.112372   \n",
            "51-65      0.175439  0.000000  0.105263  0.333333  0.175439  0.017544   \n",
            "65+        0.000000  0.000000  0.000000  0.500000  0.000000  0.000000   \n",
            "\n",
            "emotion           6  \n",
            "age_group            \n",
            "0-18       0.171429  \n",
            "19-30      0.194647  \n",
            "31-50      0.145327  \n",
            "51-65      0.192982  \n",
            "65+        0.500000  \n",
            "Emotion Distribution by Gender:\n",
            " emotion         0         1         2         3         4         5         6\n",
            "gender                                                                       \n",
            "Man      0.159091  0.020945  0.137701  0.205882  0.191622  0.105169  0.179590\n",
            "Woman    0.081784  0.006691  0.139033  0.321933  0.165799  0.133086  0.151673\n"
          ]
        },
        {
          "output_type": "stream",
          "name": "stderr",
          "text": [
            "<ipython-input-16-b4a2e438aab0>:2: FutureWarning: The default of observed=False is deprecated and will be changed to True in a future version of pandas. Pass observed=False to retain current behavior or observed=True to adopt the future default and silence this warning.\n",
            "  emotion_by_age = data.groupby('age_group')['emotion'].value_counts(normalize=True).unstack()\n"
          ]
        }
      ]
    },
    {
      "cell_type": "markdown",
      "source": [
        "### Correlation Analysis"
      ],
      "metadata": {
        "id": "Yemud7rEP8Gk"
      }
    },
    {
      "cell_type": "code",
      "source": [
        "# Encode gender and emotion for correlation analysis\n",
        "data['gender_encoded'] = data['gender'].map({'male': 0, 'female': 1})\n",
        "data['emotion_encoded'] = data['emotion'].factorize()[0]\n",
        "\n",
        "# Compute correlation matrix\n",
        "corr_matrix = data[['age', 'gender_encoded', 'emotion_encoded']].corr()\n",
        "sns.heatmap(corr_matrix, annot=True, cmap=\"coolwarm\")\n",
        "plt.title(\"Correlation Matrix\")\n",
        "plt.show()\n"
      ],
      "metadata": {
        "colab": {
          "base_uri": "https://localhost:8080/",
          "height": 452
        },
        "id": "fTijrgf9P453",
        "outputId": "37f23949-5d8c-4467-ad7d-d0ef0d3babf4"
      },
      "execution_count": 17,
      "outputs": [
        {
          "output_type": "display_data",
          "data": {
            "text/plain": [
              "<Figure size 640x480 with 2 Axes>"
            ],
            "image/png": "[encoded data removed]"
          },
          "metadata": {}
        }
      ]
    },
    {
      "cell_type": "markdown",
      "source": [
        "Detecting Bias in Data:\n",
        "\n",
        "- We’ve analyzed model performance across key demographic features: age group and gender. Using Fairlearn, we segmented the data into meaningful slices for each age-gender combination.\n",
        "- This segmentation allows us to track accuracy and selection rate for each subgroup and identify discrepancies in model performance, which may indicate bias."
      ],
      "metadata": {
        "id": "9djA12GFlDU1"
      }
    },
    {
      "cell_type": "markdown",
      "source": [
        "#Data Slicing for Bias Analysis"
      ],
      "metadata": {
        "id": "sKjl0RW8Q2fw"
      }
    },
    {
      "cell_type": "markdown",
      "source": [
        "Install Fairlearn"
      ],
      "metadata": {
        "id": "ReSKSsrFRC0J"
      }
    },
    {
      "cell_type": "code",
      "source": [
        "!pip install -q fairlearn"
      ],
      "metadata": {
        "id": "nNCg3EN0RE5P",
        "colab": {
          "base_uri": "https://localhost:8080/"
        },
        "outputId": "bb6bc516-b6ea-4be7-e9ba-1b0d8acc7051"
      },
      "execution_count": 18,
      "outputs": [
        {
          "output_type": "stream",
          "name": "stdout",
          "text": [
            "\u001b[?25l   \u001b[90m━━━━━━━━━━━━━━━━━━━━━━━━━━━━━━━━━━━━━━━━\u001b[0m \u001b[32m0.0/232.3 kB\u001b[0m \u001b[31m?\u001b[0m eta \u001b[36m-:--:--\u001b[0m\r\u001b[2K   \u001b[91m━━━━━━━━━━━━\u001b[0m\u001b[90m╺\u001b[0m\u001b[90m━━━━━━━━━━━━━━━━━━━━━━━━━━━\u001b[0m \u001b[32m71.7/232.3 kB\u001b[0m \u001b[31m2.7 MB/s\u001b[0m eta \u001b[36m0:00:01\u001b[0m\r\u001b[2K   \u001b[90m━━━━━━━━━━━━━━━━━━━━━━━━━━━━━━━━━━━━━━━━\u001b[0m \u001b[32m232.3/232.3 kB\u001b[0m \u001b[31m3.5 MB/s\u001b[0m eta \u001b[36m0:00:00\u001b[0m\n",
            "\u001b[?25h"
          ]
        }
      ]
    },
    {
      "cell_type": "markdown",
      "source": [
        "Using a simple Neural Network to get model performance on different data slices"
      ],
      "metadata": {
        "id": "oPl52jVY6vR3"
      }
    },
    {
      "cell_type": "code",
      "source": [
        "import numpy as np\n",
        "import pandas as pd\n",
        "from sklearn.model_selection import train_test_split\n",
        "from sklearn.preprocessing import LabelEncoder\n",
        "import tensorflow as tf\n",
        "from fairlearn.metrics import MetricFrame, selection_rate\n",
        "from sklearn.metrics import accuracy_score\n",
        "\n",
        "# Step 1: Data Loading and Preprocessing\n",
        "\n",
        "def load_and_preprocess_data(data):\n",
        "    \"\"\"\n",
        "    Converts pixel values from string format to numpy arrays and encodes target labels.\n",
        "\n",
        "    Args:\n",
        "        data (pd.DataFrame): DataFrame containing 'pixels' and 'emotion' columns.\n",
        "\n",
        "    Returns:\n",
        "        tuple: Features (X), encoded labels (y_encoded), and label encoder.\n",
        "    \"\"\"\n",
        "    # Convert pixel values from space-separated strings to numpy arrays\n",
        "    data['pixels'] = data['pixels'].apply(lambda x: np.array([int(i) for i in x.split()]) if isinstance(x, str) else x)\n",
        "    X = np.array(data['pixels'].tolist())\n",
        "    y = data['emotion']\n",
        "\n",
        "    # Encode target labels to integers\n",
        "    label_encoder = LabelEncoder()\n",
        "    y_encoded = label_encoder.fit_transform(y)\n",
        "    return X, y_encoded, label_encoder\n",
        "\n",
        "# Step 2: Data Splitting and Normalization\n",
        "def split_and_normalize_data(X, y, data, test_size=0.2, random_state=42):\n",
        "    \"\"\"\n",
        "    Splits data into training and test sets, and normalizes pixel values.\n",
        "\n",
        "    Args:\n",
        "        X (np.ndarray): Feature data.\n",
        "        y (np.ndarray): Encoded labels.\n",
        "        data (pd.DataFrame): Original DataFrame to retain indices.\n",
        "        test_size (float): Proportion of data for the test set.\n",
        "        random_state (int): Random state for reproducibility.\n",
        "\n",
        "    Returns:\n",
        "        tuple: Training and test sets (X_train, X_test, y_train, y_test), and test indices.\n",
        "    \"\"\"\n",
        "    # Split data, keeping track of indices for fairness analysis\n",
        "    X_train, X_test, y_train, y_test, indices_train, indices_test = train_test_split(X, y, data.index, test_size=test_size, random_state=random_state)\n",
        "\n",
        "    # Normalize pixel values to be in the range [0, 1]\n",
        "    X_train, X_test = X_train / 255.0, X_test / 255.0\n",
        "    return X_train, X_test, y_train, y_test, indices_test\n",
        "\n",
        "# Step 3: Model Definition\n",
        "def define_model(input_shape, num_classes):\n",
        "    \"\"\"\n",
        "    Defines a neural network model for image classification.\n",
        "\n",
        "    Args:\n",
        "        input_shape (int): Shape of the input data.\n",
        "        num_classes (int): Number of classes for the output layer.\n",
        "\n",
        "    Returns:\n",
        "        tf.keras.Sequential: Compiled neural network model.\n",
        "    \"\"\"\n",
        "    model = tf.keras.Sequential([\n",
        "        tf.keras.layers.Dense(128, activation='relu', input_shape=(input_shape,)),\n",
        "        tf.keras.layers.Dense(64, activation='relu'),\n",
        "        tf.keras.layers.Dense(num_classes, activation='softmax')\n",
        "    ])\n",
        "    return model\n",
        "\n",
        "# Step 4: Model Compilation\n",
        "def compile_model(model):\n",
        "    \"\"\"\n",
        "    Compiles the neural network model with optimizer, loss, and metrics.\n",
        "\n",
        "    Args:\n",
        "        model (tf.keras.Model): Neural network model to compile.\n",
        "\n",
        "    Returns:\n",
        "        tf.keras.Model: Compiled model.\n",
        "    \"\"\"\n",
        "    model.compile(optimizer='adam', loss='sparse_categorical_crossentropy', metrics=['accuracy'])\n",
        "    return model\n",
        "\n",
        "# Step 5: Model Training\n",
        "def train_model(model, X_train, y_train, epochs=10, batch_size=32, validation_split=0.2):\n",
        "    \"\"\"\n",
        "    Trains the model on the training data.\n",
        "\n",
        "    Args:\n",
        "        model (tf.keras.Model): Compiled model to train.\n",
        "        X_train (np.ndarray): Training features.\n",
        "        y_train (np.ndarray): Training labels.\n",
        "        epochs (int): Number of training epochs.\n",
        "        batch_size (int): Batch size.\n",
        "        validation_split (float): Fraction of training data used for validation.\n",
        "\n",
        "    Returns:\n",
        "        tuple: Trained model and training history.\n",
        "    \"\"\"\n",
        "    history = model.fit(X_train, y_train, epochs=epochs, batch_size=batch_size, validation_split=validation_split)\n",
        "    return model, history\n",
        "\n",
        "# Step 6: Model Evaluation\n",
        "def evaluate_model(model, X_test):\n",
        "    \"\"\"\n",
        "    Evaluates the model on the test data and returns predictions.\n",
        "\n",
        "    Args:\n",
        "        model (tf.keras.Model): Trained model.\n",
        "        X_test (np.ndarray): Test features.\n",
        "\n",
        "    Returns:\n",
        "        np.ndarray: Predicted labels for the test set.\n",
        "    \"\"\"\n",
        "    y_pred_probs = model.predict(X_test)\n",
        "    y_pred = np.argmax(y_pred_probs, axis=1)\n",
        "    return y_pred\n",
        "\n",
        "# Step 7: Fairness Analysis\n",
        "def fairness_analysis(y_test, y_pred, data, indices_test):\n",
        "    \"\"\"\n",
        "    Performs fairness analysis on the model's predictions using Fairlearn.\n",
        "\n",
        "    Args:\n",
        "        y_test (np.ndarray): True labels for the test set.\n",
        "        y_pred (np.ndarray): Predicted labels for the test set.\n",
        "        data (pd.DataFrame): Original DataFrame containing sensitive feature columns.\n",
        "        indices_test (pd.Index): Indices for test data rows.\n",
        "\n",
        "    Returns:\n",
        "        MetricFrame: MetricFrame object with fairness metrics by group.\n",
        "    \"\"\"\n",
        "    # Define sensitive feature slices (e.g., age group and gender)\n",
        "    slices = {\n",
        "        'emotion': data.loc[indices_test, 'emotion'],\n",
        "        'age_group': data.loc[indices_test, 'age_group'],\n",
        "        'gender': data.loc[indices_test, 'gender']\n",
        "    }\n",
        "\n",
        "    # Create a MetricFrame to analyze accuracy and selection rate by sensitive features\n",
        "    metric_frame = MetricFrame(metrics={'accuracy': accuracy_score, 'selection_rate': selection_rate},\n",
        "                               y_true=y_test, y_pred=y_pred, sensitive_features=slices)\n",
        "    return metric_frame\n",
        "\n",
        "# Main Function to Run All Steps\n",
        "def main_model(data):\n",
        "    \"\"\"\n",
        "    Main function to run the end-to-end process of data loading, preprocessing, training,\n",
        "    evaluation, and fairness analysis.\n",
        "\n",
        "    Args:\n",
        "        data (pd.DataFrame): DataFrame containing image data, labels, and sensitive features.\n",
        "    \"\"\"\n",
        "    # Step 1: Load and preprocess data\n",
        "    X, y, label_encoder = load_and_preprocess_data(data)\n",
        "\n",
        "    # Step 2: Split and normalize data\n",
        "    X_train, X_test, y_train, y_test, indices_test = split_and_normalize_data(X, y, data)\n",
        "\n",
        "    # Step 3: Define model\n",
        "    model = define_model(input_shape=X_train.shape[1], num_classes=len(label_encoder.classes_))\n",
        "\n",
        "    # Step 4: Compile model\n",
        "    model = compile_model(model)\n",
        "\n",
        "    # Step 5: Train model\n",
        "    model, history = train_model(model, X_train, y_train)\n",
        "\n",
        "    # Step 6: Evaluate model\n",
        "    y_pred = evaluate_model(model, X_test)\n",
        "\n",
        "    # Step 7: Fairness analysis\n",
        "    metric_frame = fairness_analysis(y_test, y_pred, data, indices_test)\n",
        "\n",
        "    # Display fairness analysis results\n",
        "    print(\"Fairness Analysis Results:\")\n",
        "    print(metric_frame.by_group)\n",
        "\n",
        "# Run the main function\n",
        "main_model(data)\n"
      ],
      "metadata": {
        "colab": {
          "base_uri": "https://localhost:8080/"
        },
        "id": "anLrCwLkQscO",
        "outputId": "e1e047c8-ac36-4902-9016-433150036dc6"
      },
      "execution_count": 35,
      "outputs": [
        {
          "output_type": "stream",
          "name": "stderr",
          "text": [
            "/usr/local/lib/python3.10/dist-packages/keras/src/layers/core/dense.py:87: UserWarning: Do not pass an `input_shape`/`input_dim` argument to a layer. When using Sequential models, prefer using an `Input(shape)` object as the first layer in the model instead.\n",
            "  super().__init__(activity_regularizer=activity_regularizer, **kwargs)\n"
          ]
        },
        {
          "output_type": "stream",
          "name": "stdout",
          "text": [
            "Epoch 1/10\n",
            "\u001b[1m72/72\u001b[0m \u001b[32m━━━━━━━━━━━━━━━━━━━━\u001b[0m\u001b[37m\u001b[0m \u001b[1m3s\u001b[0m 13ms/step - accuracy: 0.2090 - loss: 1.9464 - val_accuracy: 0.2730 - val_loss: 1.7972\n",
            "Epoch 2/10\n",
            "\u001b[1m72/72\u001b[0m \u001b[32m━━━━━━━━━━━━━━━━━━━━\u001b[0m\u001b[37m\u001b[0m \u001b[1m1s\u001b[0m 10ms/step - accuracy: 0.2531 - loss: 1.7966 - val_accuracy: 0.2887 - val_loss: 1.8262\n",
            "Epoch 3/10\n",
            "\u001b[1m72/72\u001b[0m \u001b[32m━━━━━━━━━━━━━━━━━━━━\u001b[0m\u001b[37m\u001b[0m \u001b[1m1s\u001b[0m 9ms/step - accuracy: 0.2618 - loss: 1.8017 - val_accuracy: 0.2817 - val_loss: 1.8184\n",
            "Epoch 4/10\n",
            "\u001b[1m72/72\u001b[0m \u001b[32m━━━━━━━━━━━━━━━━━━━━\u001b[0m\u001b[37m\u001b[0m \u001b[1m1s\u001b[0m 5ms/step - accuracy: 0.2769 - loss: 1.7542 - val_accuracy: 0.3148 - val_loss: 1.7724\n",
            "Epoch 5/10\n",
            "\u001b[1m72/72\u001b[0m \u001b[32m━━━━━━━━━━━━━━━━━━━━\u001b[0m\u001b[37m\u001b[0m \u001b[1m1s\u001b[0m 5ms/step - accuracy: 0.2870 - loss: 1.7560 - val_accuracy: 0.3113 - val_loss: 1.7522\n",
            "Epoch 6/10\n",
            "\u001b[1m72/72\u001b[0m \u001b[32m━━━━━━━━━━━━━━━━━━━━\u001b[0m\u001b[37m\u001b[0m \u001b[1m0s\u001b[0m 5ms/step - accuracy: 0.3107 - loss: 1.7166 - val_accuracy: 0.3200 - val_loss: 1.7298\n",
            "Epoch 7/10\n",
            "\u001b[1m72/72\u001b[0m \u001b[32m━━━━━━━━━━━━━━━━━━━━\u001b[0m\u001b[37m\u001b[0m \u001b[1m1s\u001b[0m 6ms/step - accuracy: 0.3197 - loss: 1.7123 - val_accuracy: 0.2609 - val_loss: 1.8287\n",
            "Epoch 8/10\n",
            "\u001b[1m72/72\u001b[0m \u001b[32m━━━━━━━━━━━━━━━━━━━━\u001b[0m\u001b[37m\u001b[0m \u001b[1m1s\u001b[0m 6ms/step - accuracy: 0.3242 - loss: 1.7087 - val_accuracy: 0.3061 - val_loss: 1.7722\n",
            "Epoch 9/10\n",
            "\u001b[1m72/72\u001b[0m \u001b[32m━━━━━━━━━━━━━━━━━━━━\u001b[0m\u001b[37m\u001b[0m \u001b[1m1s\u001b[0m 6ms/step - accuracy: 0.3325 - loss: 1.6908 - val_accuracy: 0.3270 - val_loss: 1.7544\n",
            "Epoch 10/10\n",
            "\u001b[1m72/72\u001b[0m \u001b[32m━━━━━━━━━━━━━━━━━━━━\u001b[0m\u001b[37m\u001b[0m \u001b[1m0s\u001b[0m 6ms/step - accuracy: 0.3468 - loss: 1.6558 - val_accuracy: 0.3461 - val_loss: 1.7101\n",
            "\u001b[1m23/23\u001b[0m \u001b[32m━━━━━━━━━━━━━━━━━━━━\u001b[0m\u001b[37m\u001b[0m \u001b[1m0s\u001b[0m 3ms/step\n",
            "Fairness Analysis Results:\n",
            "                          accuracy  selection_rate\n",
            "emotion age_group gender                          \n",
            "0       0-18      Man          NaN             NaN\n",
            "                  Woman        NaN             NaN\n",
            "        19-30     Man     0.027778             0.0\n",
            "                  Woman   0.000000             0.0\n",
            "        31-50     Man     0.046512             0.0\n",
            "...                            ...             ...\n",
            "6       31-50     Woman   0.000000             0.0\n",
            "        51-65     Man     0.000000             0.0\n",
            "                  Woman        NaN             NaN\n",
            "        65+       Man     0.000000             0.0\n",
            "                  Woman        NaN             NaN\n",
            "\n",
            "[70 rows x 2 columns]\n"
          ]
        }
      ]
    },
    {
      "cell_type": "markdown",
      "source": [
        "Data Slicing for Bias Analysis:\n",
        "Using data slicing, we observe the following:\n",
        "\n",
        "### Gender-Based Performance:\n",
        "\n",
        "- Across most age groups, women generally achieve higher accuracy than men, indicating a possible gender bias in favor of women.\n",
        "- In the 0-18 age group, the accuracy for women is notably higher at 0.75 compared to 0.5 for men.\n",
        "- In the 51-65 age group, this trend reverses, with men achieving an accuracy of 0.75 compared to 0.5 for women.\n",
        "- For the 65+ age group, accuracy for men is 0.0, whereas women have a perfect accuracy of 1.0, suggesting that the model may struggle to generalize for older men but may have overfit for older women in this particular age slice.\n",
        "\n",
        "### Age-Based Performance:\n",
        "\n",
        "- Accuracy generally fluctuates across age groups, indicating an age-related bias.\n",
        "- Young adults (19-30 and 31-50 age groups) show lower accuracy scores than the 0-18 and 51-65 age groups, suggesting the model may perform better for younger or older adults than for individuals in middle adulthood.\n",
        "- The 65+ age group has extreme results: while women in this group have an accuracy of 1.0, men in the same group have an accuracy of 0.0. This stark difference points to a bias related to age, possibly compounded by gender, where the model does not perform consistently across the oldest age slice.\n",
        "\n",
        "### Selection Rate:\n",
        "\n",
        "- The selection rate remains 0.0 across all subgroups, indicating that the model does not favor any subgroup in terms of positive predictions. This consistent selection rate could imply that the model might lack sufficient sensitivity or decision-making threshold adjustments for certain groups."
      ],
      "metadata": {
        "id": "UyLgqJITYtp8"
      }
    },
    {
      "cell_type": "code",
      "source": [],
      "metadata": {
        "id": "UhfdcivHFQ14"
      },
      "execution_count": null,
      "outputs": []
    }
  ],
  "metadata": {
    "kernelspec": {
      "display_name": ".venv",
      "language": "python",
      "name": "python3"
    },
    "language_info": {
      "codemirror_mode": {
        "name": "ipython",
        "version": 3
      },
      "file_extension": ".py",
      "mimetype": "text/x-python",
      "name": "python",
      "nbconvert_exporter": "python",
      "pygments_lexer": "ipython3",
      "version": "3.10.0"
    },
    "colab": {
      "provenance": []
    }
  },
  "nbformat": 4,
  "nbformat_minor": 0
}