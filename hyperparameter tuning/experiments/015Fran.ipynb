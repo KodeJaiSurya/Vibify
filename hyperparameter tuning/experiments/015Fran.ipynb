{
 "cells": [
  {
   "cell_type": "code",
   "execution_count": 1,
   "id": "0283dfb4-bd0d-4616-850f-5753b1d09058",
   "metadata": {},
   "outputs": [
    {
     "name": "stdout",
     "output_type": "stream",
     "text": [
      "Training data shape: (20973, 48, 48, 1)\n",
      "Testing data shape: (5244, 48, 48, 1)\n"
     ]
    }
   ],
   "source": [
    "import keras\n",
    "from keras import layers\n",
    "import keras_tuner as kt\n",
    "from emotion_model_pipeline import load_data\n",
    "import tensorflow as tf\n",
    "\n",
    "# Load the data\n",
    "data = load_data(\n",
    "    X_path='C:/Users/Surface/NU/Vibify/dags/data/preprocessed/X.npy',  # Path to the features file\n",
    "    y_path='C:/Users/Surface/NU/Vibify/dags/data/preprocessed/y.npy',  # Path to the labels file\n",
    ")\n",
    "\n",
    "# Print the data shapes\n",
    "print(f\"Training data shape: {data['X_train'].shape}\")\n",
    "print(f\"Testing data shape: {data['X_test'].shape}\")\n",
    "\n",
    "# Normalize the input data\n",
    "#X_train = data['X_train'] / 255.0  # Normalize pixel values to range [0, 1]\n",
    "#X_val = data['X_test'] / 255.0\n",
    "#y_train = data['y_train']\n",
    "#y_val = data['y_test']\n"
   ]
  },
  {
   "cell_type": "code",
   "execution_count": null,
   "id": "f4807840-8c34-4504-a8ca-59fb23353611",
   "metadata": {},
   "outputs": [],
   "source": []
  },
  {
   "cell_type": "markdown",
   "id": "9be2f04d-9aff-402f-adc1-ea3b6ee9e773",
   "metadata": {},
   "source": [
    "def build_model(hp):\n",
    "    model = keras.Sequential()\n",
    "\n",
    "    # First Convolutional Layer\n",
    "    model.add(layers.InputLayer(input_shape=(48, 48, 1)))\n",
    "    model.add(layers.Conv2D(\n",
    "        filters=hp.Int('filters_1', min_value=32, max_value=128, step=32),\n",
    "        kernel_size=hp.Choice('kernel_size_1', values=[3, 5]),\n",
    "        activation='relu'\n",
    "    ))\n",
    "    model.add(layers.MaxPooling2D(pool_size=(2, 2)))\n",
    "\n",
    "    # Second Convolutional Layer\n",
    "    model.add(layers.Conv2D(\n",
    "        filters=hp.Int('filters_2', min_value=64, max_value=256, step=64),\n",
    "        kernel_size=hp.Choice('kernel_size_2', values=[3, 5]),\n",
    "        activation='relu'\n",
    "    ))\n",
    "    model.add(layers.MaxPooling2D(pool_size=(2, 2)))\n",
    "\n",
    "    # Flatten and Dense Layer\n",
    "    model.add(layers.Flatten())\n",
    "    model.add(layers.Dense(\n",
    "        units=hp.Int('dense_units', min_value=64, max_value=256, step=64),\n",
    "        activation='relu'\n",
    "    ))\n",
    "\n",
    "    # Output Layer (4 classes for 4 emotions)\n",
    "    model.add(layers.Dense(4, activation='softmax'))\n",
    "\n",
    "    # Compile the model\n",
    "    model.compile(\n",
    "        optimizer=keras.optimizers.Adam(\n",
    "            learning_rate=hp.Float('learning_rate', min_value=1e-4, max_value=1e-2, sampling='LOG')\n",
    "        ),\n",
    "        loss='sparse_categorical_crossentropy',  # For integer labels\n",
    "        metrics=['accuracy']\n",
    "    )\n",
    "\n",
    "    return model\n"
   ]
  },
  {
   "cell_type": "markdown",
   "id": "b9b65b3e-1a74-48da-a8f9-0b37ffe4d55f",
   "metadata": {},
   "source": [
    "tuner = kt.RandomSearch(\n",
    "    build_model,\n",
    "    objective='val_accuracy',  # Maximize validation accuracy\n",
    "    max_trials=10,  # Number of trials\n",
    "    executions_per_trial=3,  # Number of executions per trial\n",
    "    directory='kt_dir',  # Directory to store the results\n",
    "    project_name='emotion_classification'\n",
    ")\n"
   ]
  },
  {
   "cell_type": "markdown",
   "id": "a6fe35ff-faab-4ae0-9667-b05ae3e6ad90",
   "metadata": {},
   "source": [
    "tuner.search(X_train, y_train, epochs=10, validation_data=(X_val, y_val))\n"
   ]
  },
  {
   "cell_type": "markdown",
   "id": "c2e0cd13-1841-4a87-a43d-114e38d66964",
   "metadata": {},
   "source": [
    "import mlflow\n",
    "import mlflow.keras\n",
    "\n",
    "def log_trial_in_mlflow(trial):\n",
    "    # Log the hyperparameters and metrics of the trial in MLflow\n",
    "    with mlflow.start_run():\n",
    "        mlflow.log_param('filters_1', trial.params['filters_1'])\n",
    "        mlflow.log_param('filters_2', trial.params['filters_2'])\n",
    "        mlflow.log_param('kernel_size_1', trial.params['kernel_size_1'])\n",
    "        mlflow.log_param('kernel_size_2', trial.params['kernel_size_2'])\n",
    "        mlflow.log_param('dense_units', trial.params['dense_units'])\n",
    "        mlflow.log_param('learning_rate', trial.params['learning_rate'])\n",
    "        mlflow.log_metric('val_accuracy', trial.results['val_accuracy'])\n",
    "        \n",
    "        # Log the best model\n",
    "        mlflow.keras.log_model(model, \"model\")"
   ]
  },
  {
   "cell_type": "markdown",
   "id": "35772a3d-d25b-42ea-8f79-be39275ecb90",
   "metadata": {},
   "source": [
    "# Get the best hyperparameters\n",
    "best_hyperparameters = tuner.get_best_hyperparameters(num_trials=1)[0]\n",
    "print(\"Best hyperparameters:\", best_hyperparameters.values)\n",
    "\n",
    "# Build the model with the best hyperparameters\n",
    "best_model = tuner.hypermodel.build(best_hyperparameters)\n",
    "\n",
    "# Train the final model\n",
    "best_model.fit(X_train, y_train, epochs=10, validation_data=(X_val, y_val))\n"
   ]
  },
  {
   "cell_type": "markdown",
   "id": "9761f62d-c86a-410b-a81f-bab4c61a36b8",
   "metadata": {},
   "source": [
    "# Evaluate the model on the test set\n",
    "test_loss, test_acc = best_model.evaluate(data['X_test'], data['y_test'])\n",
    "print(f\"Test accuracy: {test_acc}\")\n",
    "\n",
    "# Save the model\n",
    "best_model.save('emotion_classification_model.h5')\n"
   ]
  },
  {
   "cell_type": "code",
   "execution_count": 21,
   "id": "a1404e22-97b9-4eb3-88d5-afde7adc882a",
   "metadata": {},
   "outputs": [],
   "source": [
    "import keras\n",
    "from keras import layers\n",
    "import keras_tuner as kt\n",
    "import mlflow\n",
    "import mlflow.keras\n",
    "from emotion_model_pipeline import load_data\n",
    "import tensorflow as tf"
   ]
  },
  {
   "cell_type": "code",
   "execution_count": 23,
   "id": "0c1ee61b-d68d-471c-838c-42a6046fe5eb",
   "metadata": {},
   "outputs": [],
   "source": [
    "#!pip install mlflow"
   ]
  },
  {
   "cell_type": "code",
   "execution_count": 25,
   "id": "dbdb2fe6-83a5-4a25-9c14-67dafc54ab62",
   "metadata": {},
   "outputs": [],
   "source": [
    "# Define the model-building function with hyperparameter tuning\n",
    "def build_model(hp):\n",
    "    model = keras.Sequential()\n",
    "    \n",
    "    # Choose number of convolutional layers\n",
    "    model.add(layers.InputLayer(input_shape=(48, 48, 1)))\n",
    "    \n",
    "    for i in range(hp.Int('conv_layers', 1, 3)):  # Randomly choose number of conv layers (1 to 3)\n",
    "        model.add(layers.Conv2D(\n",
    "            filters=hp.Int(f'filters_{i}', min_value=32, max_value=128, step=32),  # Random filter size\n",
    "            kernel_size=(3, 3),\n",
    "            activation='relu'\n",
    "        ))\n",
    "        model.add(layers.MaxPooling2D(pool_size=(2, 2)))\n",
    "    \n",
    "    model.add(layers.Flatten())\n",
    "    \n",
    "    # Add a fully connected layer with number of units\n",
    "    model.add(layers.Dense(\n",
    "        hp.Int('units', min_value=64, max_value=512, step=64),  # Random number of units\n",
    "        activation='relu'\n",
    "    ))\n",
    "\n",
    "    # Output layer with 4 classes (emotion classification)\n",
    "    model.add(layers.Dense(4, activation='softmax'))\n",
    "    \n",
    "    # Compile the model\n",
    "    model.compile(\n",
    "        optimizer=keras.optimizers.Adam(\n",
    "            hp.Float('learning_rate', min_value=1e-5, max_value=1e-2, sampling='LOG')\n",
    "        ),\n",
    "        loss='sparse_categorical_crossentropy',\n",
    "        metrics=['accuracy']\n",
    "    )\n",
    "    \n",
    "    return model\n"
   ]
  },
  {
   "cell_type": "code",
   "execution_count": 27,
   "id": "1e3ec836-260f-46e5-8529-e20278ad885f",
   "metadata": {},
   "outputs": [
    {
     "name": "stdout",
     "output_type": "stream",
     "text": [
      "<Experiment: artifact_location='file:///C:/Users/Surface/NU/Vibify/pipelines/dags/src/mlruns/854121127519128219', creation_time=1731689171128, experiment_id='854121127519128219', last_update_time=1731689171128, lifecycle_stage='active', name='emotion_recognition_experiment', tags={}>\n"
     ]
    }
   ],
   "source": [
    "import mlflow\n",
    "\n",
    "# Define your experiment name\n",
    "experiment_name = \"emotion_recognition_experiment\"\n",
    "\n",
    "# Set the experiment\n",
    "mlflow.set_experiment(experiment_name)\n",
    "\n",
    "# Verify the experiment was created (you can print the current experiment to check)\n",
    "experiment = mlflow.get_experiment_by_name(experiment_name)\n",
    "print(experiment)\n"
   ]
  },
  {
   "cell_type": "code",
   "execution_count": 15,
   "id": "0218c899-c75a-496b-b435-8aaecca362a0",
   "metadata": {},
   "outputs": [
    {
     "name": "stdout",
     "output_type": "stream",
     "text": [
      "<Experiment: artifact_location='file:///C:/Users/Surface/NU/Vibify/pipelines/dags/src/mlruns/854121127519128219', creation_time=1731689171128, experiment_id='854121127519128219', last_update_time=1731689171128, lifecycle_stage='active', name='emotion_recognition_experiment', tags={}>\n"
     ]
    }
   ],
   "source": [
    "print(experiment)"
   ]
  },
  {
   "cell_type": "code",
   "execution_count": 19,
   "id": "721bd4f9-2e08-4410-a1ba-8bbbdc80abfb",
   "metadata": {},
   "outputs": [],
   "source": [
    "# Function to log results to MLFlow\n",
    "def log_trial_to_mlflow(trial):\n",
    "    with mlflow.start_run():\n",
    "        # Log hyperparameters\n",
    "        for hp_name, value in trial.hyperparameters.values.items():\n",
    "            mlflow.log_param(hp_name, value)\n",
    "\n",
    "        # Log the metrics (e.g., validation accuracy)\n",
    "        mlflow.log_metric('val_accuracy', trial.score)"
   ]
  },
  {
   "cell_type": "code",
   "execution_count": 25,
   "id": "a3976e6a-669e-4977-9b45-60ab50c47861",
   "metadata": {},
   "outputs": [
    {
     "name": "stdout",
     "output_type": "stream",
     "text": [
      "Training data shape: (20973, 48, 48, 1)\n",
      "Testing data shape: (5244, 48, 48, 1)\n"
     ]
    }
   ],
   "source": [
    "# Load the data\n",
    "data = load_data(\n",
    "    X_path='C:/Users/Surface/NU/Vibify/dags/data/preprocessed/X.npy',  # Path to the features file\n",
    "    y_path='C:/Users/Surface/NU/Vibify/dags/data/preprocessed/y.npy',  # Path to the labels file\n",
    ")\n",
    "\n",
    "# Print the data shapes\n",
    "print(f\"Training data shape: {data['X_train'].shape}\")\n",
    "print(f\"Testing data shape: {data['X_test'].shape}\")"
   ]
  },
  {
   "cell_type": "code",
   "execution_count": 27,
   "id": "e84b65d1-e1bf-4905-ae0c-a08af1212e1a",
   "metadata": {},
   "outputs": [],
   "source": [
    "# Initialize the RandomSearch tuner\n",
    "tuner = kt.RandomSearch(\n",
    "    build_model,\n",
    "    objective='val_accuracy',  # Objective to optimize\n",
    "    max_trials=1,  # Number of trials to run\n",
    "    executions_per_trial=1,  # Number of executions per trial\n",
    "    directory='tuner_dir',  # Directory to store results\n",
    "    project_name='emotion_model_random_search'  # Project name for the tuning\n",
    ")"
   ]
  },
  {
   "cell_type": "code",
   "execution_count": 31,
   "id": "dd3333d6-b279-4926-8ad6-b3be2943d7d1",
   "metadata": {},
   "outputs": [
    {
     "name": "stdout",
     "output_type": "stream",
     "text": [
      "Trial 2 Complete [00h 00m 59s]\n",
      "val_accuracy: 0.4742562919855118\n",
      "\n",
      "Best val_accuracy So Far: 0.563787192106247\n",
      "Total elapsed time: 00h 03m 17s\n"
     ]
    }
   ],
   "source": [
    "tuner.search(\n",
    "    data['X_train'], data['y_train'], \n",
    "    epochs=1, \n",
    "    validation_data=(data['X_test'], data['y_test'])\n",
    "    )"
   ]
  },
  {
   "cell_type": "code",
   "execution_count": 33,
   "id": "2c245f27-e4c2-4e16-8e03-a5c1479d927f",
   "metadata": {},
   "outputs": [
    {
     "name": "stderr",
     "output_type": "stream",
     "text": [
      "C:\\Users\\Surface\\anaconda3\\Lib\\site-packages\\keras\\src\\saving\\saving_lib.py:418: UserWarning: Skipping variable loading for optimizer 'adam', because it has 2 variables whereas the saved optimizer has 22 variables. \n",
      "  trackable.load_own_variables(weights_store.get(inner_path))\n",
      "2024/11/15 11:25:05 WARNING mlflow.keras.save: You are saving a Keras model without specifying model signature.\n",
      "2024/11/15 11:25:24 WARNING mlflow.models.model: Model logged without a signature and input example. Please set `input_example` parameter when logging the model to auto infer the model signature.\n"
     ]
    },
    {
     "data": {
      "text/plain": [
       "<mlflow.models.model.ModelInfo at 0x210f1653090>"
      ]
     },
     "execution_count": 33,
     "metadata": {},
     "output_type": "execute_result"
    }
   ],
   "source": [
    "for trial in tuner.oracle.get_best_trials():\n",
    "    log_trial_to_mlflow(trial)\n",
    "\n",
    "# Optionally, save the best model\n",
    "best_model = tuner.get_best_models()[0]\n",
    "mlflow.keras.log_model(best_model, 'best_model')"
   ]
  },
  {
   "cell_type": "code",
   "execution_count": null,
   "id": "06728c93-2e87-4ce8-a895-c6da98fccd89",
   "metadata": {},
   "outputs": [],
   "source": []
  }
 ],
 "metadata": {
  "kernelspec": {
   "display_name": "Python 3 (ipykernel)",
   "language": "python",
   "name": "python3"
  },
  "language_info": {
   "codemirror_mode": {
    "name": "ipython",
    "version": 3
   },
   "file_extension": ".py",
   "mimetype": "text/x-python",
   "name": "python",
   "nbconvert_exporter": "python",
   "pygments_lexer": "ipython3",
   "version": "3.11.8"
  }
 },
 "nbformat": 4,
 "nbformat_minor": 5
}
