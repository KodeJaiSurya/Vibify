{
 "cells": [
  {
   "cell_type": "code",
   "execution_count": 1,
   "id": "bd1af5e9-ecb1-4481-88d5-5f217ab98303",
   "metadata": {},
   "outputs": [],
   "source": [
    "import keras\n",
    "from keras import layers\n",
    "import keras_tuner as kt\n",
    "import mlflow\n",
    "import mlflow.keras\n",
    "from emotion_model_pipeline import load_data\n",
    "import tensorflow as tf\n",
    "import mlflow"
   ]
  },
  {
   "cell_type": "code",
   "execution_count": 2,
   "id": "e556443c-eeb0-4d9f-9861-db736826993c",
   "metadata": {},
   "outputs": [
    {
     "name": "stdout",
     "output_type": "stream",
     "text": [
      "Training data shape: (20973, 48, 48, 1)\n",
      "Testing data shape: (5244, 48, 48, 1)\n"
     ]
    }
   ],
   "source": [
    "# Load the data\n",
    "data = load_data(\n",
    "    X_path='C:/Users/Surface/NU/Vibify/dags/data/preprocessed/X.npy',  # Path to the features file\n",
    "    y_path='C:/Users/Surface/NU/Vibify/dags/data/preprocessed/y.npy',  # Path to the labels file\n",
    ")\n",
    "\n",
    "# Print the data shapes\n",
    "print(f\"Training data shape: {data['X_train'].shape}\")\n",
    "print(f\"Testing data shape: {data['X_test'].shape}\")"
   ]
  },
  {
   "cell_type": "code",
   "execution_count": 8,
   "id": "3f6cf80b-c92d-407c-bae3-c2a14b9ea461",
   "metadata": {},
   "outputs": [
    {
     "name": "stderr",
     "output_type": "stream",
     "text": [
      "2024/11/15 12:00:05 INFO mlflow.tracking.fluent: Experiment with name 'emotion_recognition_experiment_2' does not exist. Creating a new experiment.\n"
     ]
    },
    {
     "name": "stdout",
     "output_type": "stream",
     "text": [
      "<Experiment: artifact_location='file:///C:/Users/Surface/NU/Vibify/pipelines/dags/src/mlruns/545330959567176815', creation_time=1731690005934, experiment_id='545330959567176815', last_update_time=1731690005934, lifecycle_stage='active', name='emotion_recognition_experiment_2', tags={}>\n"
     ]
    }
   ],
   "source": [
    "# Define your experiment name\n",
    "experiment_name = \"emotion_recognition_experiment_2\"\n",
    "\n",
    "# Set the experiment\n",
    "mlflow.set_experiment(experiment_name)\n",
    "\n",
    "# Verify the experiment was created (you can print the current experiment to check)\n",
    "experiment = mlflow.get_experiment_by_name(experiment_name)\n",
    "print(experiment)\n"
   ]
  },
  {
   "cell_type": "code",
   "execution_count": 6,
   "id": "d85464de-a3df-43b7-ab44-9236db55f670",
   "metadata": {},
   "outputs": [],
   "source": [
    "# Define the model-building function with hyperparameter tuning\n",
    "def build_model(hp):\n",
    "    model = keras.Sequential()\n",
    "    \n",
    "    # Choose number of convolutional layers\n",
    "    model.add(layers.InputLayer(input_shape=(48, 48, 1)))\n",
    "    \n",
    "    for i in range(hp.Int('conv_layers', 1, 3)):  # Randomly choose number of conv layers (1 to 3)\n",
    "        model.add(layers.Conv2D(\n",
    "            filters=hp.Int(f'filters_{i}', min_value=32, max_value=128, step=32),  # Random filter size\n",
    "            kernel_size=(3, 3),\n",
    "            activation='relu'\n",
    "        ))\n",
    "        model.add(layers.MaxPooling2D(pool_size=(2, 2)))\n",
    "    \n",
    "    model.add(layers.Flatten())\n",
    "    \n",
    "    # Add a fully connected layer with number of units\n",
    "    model.add(layers.Dense(\n",
    "        hp.Int('units', min_value=64, max_value=512, step=64),  # Random number of units\n",
    "        activation='relu'\n",
    "    ))\n",
    "\n",
    "    # Output layer with 4 classes (emotion classification)\n",
    "    model.add(layers.Dense(4, activation='softmax'))\n",
    "    \n",
    "    # Compile the model\n",
    "    model.compile(\n",
    "        optimizer=keras.optimizers.Adam(\n",
    "            hp.Float('learning_rate', min_value=1e-5, max_value=1e-2, sampling='LOG')\n",
    "        ),\n",
    "        loss='sparse_categorical_crossentropy',\n",
    "        metrics=['accuracy']\n",
    "    )\n",
    "    \n",
    "    return model\n"
   ]
  },
  {
   "cell_type": "code",
   "execution_count": null,
   "id": "a9c378a7-5c67-4106-b680-31b99b9bb523",
   "metadata": {},
   "outputs": [],
   "source": []
  }
 ],
 "metadata": {
  "kernelspec": {
   "display_name": "Python 3 (ipykernel)",
   "language": "python",
   "name": "python3"
  },
  "language_info": {
   "codemirror_mode": {
    "name": "ipython",
    "version": 3
   },
   "file_extension": ".py",
   "mimetype": "text/x-python",
   "name": "python",
   "nbconvert_exporter": "python",
   "pygments_lexer": "ipython3",
   "version": "3.11.8"
  }
 },
 "nbformat": 4,
 "nbformat_minor": 5
}
